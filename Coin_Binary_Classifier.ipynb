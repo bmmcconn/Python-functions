{
  "nbformat": 4,
  "nbformat_minor": 0,
  "metadata": {
    "colab": {
      "name": "Coin_Binary_Classifier.ipynb",
      "provenance": [],
      "authorship_tag": "ABX9TyMswrlYnaDksQjpINEghmsT"
    },
    "kernelspec": {
      "name": "python3",
      "display_name": "Python 3"
    }
  },
  "cells": [
    {
      "cell_type": "markdown",
      "metadata": {
        "id": "TA2sFEAJLu9b",
        "colab_type": "text"
      },
      "source": [
        "# Problem Statement\n",
        "Suppose you have two coins. You know the probability of heads with each coin (they may not be fair). You're going to randomly choose a coin with probability `pick_coin_1` then after observing the outcome of a few flips, you want to the chances are you used coin 1.  "
      ]
    },
    {
      "cell_type": "markdown",
      "metadata": {
        "id": "8tw4qFs1PR4I",
        "colab_type": "text"
      },
      "source": [
        "This is an application of [Bayes' Rule](https://en.wikipedia.org/wiki/Bayes%27_theorem). "
      ]
    },
    {
      "cell_type": "code",
      "metadata": {
        "id": "aGV7dsmI4eXG",
        "colab_type": "code",
        "colab": {}
      },
      "source": [
        "def eval_coin(prob_head_coin1,prob_head_coin2,outcomes,prob_pick_coin1 = 0.5):\n",
        "    \"\"\"Returns probability of which coin produced the outcomes\n",
        "  \n",
        "    Inputs:\n",
        "     prob_head_coin1: probability of heads with coin_1   (0.5 is fair coin)\n",
        "     prob_head_coin2: probability of heads with coin)2    \n",
        "     outcomes:        string of outcomes, 'HHHT' means three heads and one tails\n",
        "                      valid characters: H,h,T,t\n",
        "     prob_pick_coin1: probability of using coin1         (default is 0.5)\n",
        "\n",
        "    Outputs:\n",
        "     prob_coin = [p1 p2]     (p1 is probably outcomes occurred using coin 1)\n",
        "    \"\"\"\n",
        "    # ################ Begin Error Checking ####################################\n",
        "    outcomes = outcomes.upper()\n",
        "    if not isinstance(outcomes,str):\n",
        "      raise Exception('ERROR: outcomes must be a string')\n",
        "    if sum((outcome != 'H' and outcome != 'T') for outcome in outcomes) > 0:\n",
        "      raise Exception('ERROR: outcomes must consist of H, h, T, t characters only')\n",
        "    if (not isinstance(prob_head_coin1,float)) and (prob_head_coin1 != 0) and (prob_head_coin1 != 1):\n",
        "      raise Exception('ERROR: probability of heads for coin 1 must be a float between 0 and 1')\n",
        "    if (not isinstance(prob_head_coin2,float)) and (prob_head_coin2 != 0) and (prob_head_coin2 != 1):\n",
        "      raise Exception('ERROR: probability of heads for coin 2 must be a float between 0 and 1')\n",
        "    if (prob_head_coin1 < 0) or (prob_head_coin2 < 0):\n",
        "      raise Exception('ERROR: probability of heads must be nonnegative')\n",
        "    if (prob_head_coin1 > 1) or (prob_head_coin2 > 1):\n",
        "      raise Exception('ERROR: probability of heads must be less than 1')         \n",
        "    # ################ End Error Checking ######################################\n",
        "    num_flips = len(outcomes)\n",
        "    heads_count = sum(outcome == 'H' for outcome in outcomes)\n",
        "    \n",
        "    top = (prob_head_coin1**heads_count)*((1-prob_head_coin1)**(num_flips - heads_count))*prob_pick_coin1\n",
        "    bottom = top + (prob_head_coin2**heads_count)*((1-prob_head_coin2)**(num_flips - heads_count))*(1-prob_pick_coin1)\n",
        "    prob_coin1_given_outcomes = top/bottom\n",
        "    return [prob_coin1_given_outcomes, 1-prob_coin1_given_outcomes]"
      ],
      "execution_count": 0,
      "outputs": []
    },
    {
      "cell_type": "code",
      "metadata": {
        "id": "c1x20TL_7hdK",
        "colab_type": "code",
        "colab": {
          "base_uri": "https://localhost:8080/",
          "height": 35
        },
        "outputId": "fdb43f94-f18e-4538-ab92-cde6dcf60a74"
      },
      "source": [
        "p = eval_coin(0.6,0.4,'HTTHHHHT',0.5)\n",
        "print(p)"
      ],
      "execution_count": 156,
      "outputs": [
        {
          "output_type": "stream",
          "text": [
            "[0.6923076923076923, 0.3076923076923077]\n"
          ],
          "name": "stdout"
        }
      ]
    }
  ]
}